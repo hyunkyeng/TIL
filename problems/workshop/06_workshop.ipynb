{
 "cells": [
  {
   "cell_type": "markdown",
   "metadata": {},
   "source": [
    "Q. 양의 정수 x를 입력 받아 제곱근의 근사값의 결과를 반환하는 함수를 작성하세요. (sqrt() 사용 금지)"
   ]
  },
  {
   "cell_type": "code",
   "execution_count": 50,
   "metadata": {},
   "outputs": [
    {
     "name": "stdout",
     "output_type": "stream",
     "text": [
      "1.414213562373094\n"
     ]
    }
   ],
   "source": [
    "def my_sqrt(num):\n",
    "    a = 0\n",
    "    b = 2*num\n",
    "    \n",
    "    for i in range(50):\n",
    "        c = ((a+b)/2)\n",
    "        if c**2 > num:\n",
    "            b = c\n",
    "        else:\n",
    "            a = c\n",
    "    return (a+b)/2\n",
    "print(my_sqrt(2))"
   ]
  },
  {
   "cell_type": "code",
   "execution_count": null,
   "metadata": {},
   "outputs": [],
   "source": [
    "# n >= 0\n",
    "def my_sqrt(n):\n",
    "    # n은 양의 정수이니 간단하게 0은 제외하고 생각해서 x = 1\n",
    "    # n의 제곱근은 n보다 작기 때문에 y = n\n",
    "    x, y = 1, n\n",
    "    answer = 1\n",
    "\n",
    "    #import math\n",
    "    #while not math.isclose(answer**2, n):\n",
    "\n",
    "    # 구하려고 하는 제곱근을 제곱한 결과와 n의 차이가 0.0001보다 적어지면 while문 종료\n",
    "    # 0.0001 보다 작게하면 더 정확해진다.\n",
    "    while abs(answer**2 - n) > 0.0001:\n",
    "        # 양끝의 숫자의 중간 지점을 찾고\n",
    "        answer = (x + y)/2\n",
    "        # 중간지점의 제곱의 결과가 제곱근을 구해야 하는 n보다 (수직선상에서) 왼쪽에 있다면\n",
    "        if answer**2 < n:\n",
    "            # 왼쪽 끝을 중간지점으로 바꾸고 \n",
    "            x = answer \n",
    "        # 중간지점의 제곱의 결과가 제곱근을 구해야 하는 n보다 (수직선상에서)오른쪽에 있다면\n",
    "        else: \n",
    "            # 오른쪽 끝을 중간지점으로 바꾸고\n",
    "            y = answer \n",
    "    # 근사값에 도달하면 while문을 빠져나와서 answer를 리턴\n",
    "    return answer\n",
    "\n",
    "print(my_sqrt(1))\n",
    "print(my_sqrt(2))\n",
    "print(my_sqrt(3))\n",
    "print(my_sqrt(4))\n",
    "print(my_sqrt(5))"
   ]
  },
  {
   "cell_type": "code",
   "execution_count": 51,
   "metadata": {},
   "outputs": [
    {
     "name": "stdout",
     "output_type": "stream",
     "text": [
      "2\n",
      "b 1.5\n",
      "2\n",
      "a 1.25\n",
      "2\n",
      "a 1.375\n",
      "2\n",
      "b 1.4375\n",
      "2\n",
      "a 1.40625\n",
      "2\n",
      "b 1.421875\n",
      "2\n",
      "a 1.4140625\n",
      "(1.4140625, 1.421875)\n"
     ]
    }
   ],
   "source": [
    "\n",
    "\n",
    "def my_sqrt(n):\n",
    "    a = n-1\n",
    "    b = n\n",
    "    while True:\n",
    "        if float('%.3f' % (a**2)) < n < float('%.3f' % (b**2)):\n",
    "            k = (a+b)/2\n",
    "#             print(n)\n",
    "            if k**2 > n:\n",
    "                b = k\n",
    "#                 print('b',b)\n",
    "            else:\n",
    "                a = k\n",
    "#                 print('a',a)\n",
    "#                 continue\n",
    "        else:\n",
    "            return a, b\n",
    "            \n",
    "print(my_sqrt(2))\n"
   ]
  },
  {
   "cell_type": "code",
   "execution_count": 39,
   "metadata": {},
   "outputs": [],
   "source": [
    "#             print('b', b)\n",
    "#             if a**2 < 2 < b**2:\n",
    "#                 a = (a+b)/2\n",
    "#                 print('a', a)\n",
    "#                 if a**2 < 2 < b**2:\n",
    "#                     a = (a+b)/2\n",
    "#                     print('a', a)\n",
    "# #                     if a**2 < 2 < b**2:\n",
    "# #                         b = (a+b)/2\n",
    "# #                         print(b)\n",
    "#             continue\n",
    "if float('%.3f' % (a**2)) < n < float('%.3f' % (b**2)):"
   ]
  },
  {
   "cell_type": "code",
   "execution_count": null,
   "metadata": {},
   "outputs": [],
   "source": []
  }
 ],
 "metadata": {
  "kernelspec": {
   "display_name": "Python 3",
   "language": "python",
   "name": "python3"
  },
  "language_info": {
   "codemirror_mode": {
    "name": "ipython",
    "version": 3
   },
   "file_extension": ".py",
   "mimetype": "text/x-python",
   "name": "python",
   "nbconvert_exporter": "python",
   "pygments_lexer": "ipython3",
   "version": "3.6.7"
  }
 },
 "nbformat": 4,
 "nbformat_minor": 2
}
