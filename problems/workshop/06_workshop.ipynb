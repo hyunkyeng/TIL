{
 "cells": [
  {
   "cell_type": "markdown",
   "metadata": {},
   "source": [
    "Q. 양의 정수 x를 입력 받아 제곱근의 근사값의 결과를 반환하는 함수를 작성하세요. (sqrt() 사용 금지)"
   ]
  },
  {
   "cell_type": "code",
   "execution_count": 50,
   "metadata": {},
   "outputs": [
    {
     "name": "stdout",
     "output_type": "stream",
     "text": [
      "1.414213562373094\n"
     ]
    }
   ],
   "source": [
    "def my_sqrt(num):\n",
    "    a = 0\n",
    "    b = 2*num\n",
    "    \n",
    "    for i in range(50):\n",
    "        c = ((a+b)/2)\n",
    "        if c**2 > num:\n",
    "            b = c\n",
    "        else:\n",
    "            a = c\n",
    "    return (a+b)/2\n",
    "print(my_sqrt(2))"
   ]
  },
  {
   "cell_type": "code",
   "execution_count": 47,
   "metadata": {},
   "outputs": [
    {
     "name": "stdout",
     "output_type": "stream",
     "text": [
      "2\n",
      "b 1.5\n",
      "2\n",
      "a 1.25\n",
      "2\n",
      "a 1.375\n",
      "2\n",
      "b 1.4375\n",
      "2\n",
      "a 1.40625\n",
      "2\n",
      "b 1.421875\n",
      "2\n",
      "a 1.4140625\n",
      "(1.4140625, 1.421875)\n"
     ]
    }
   ],
   "source": [
    "\n",
    "\n",
    "def my_sqrt(n):\n",
    "    a = n-1\n",
    "    b = n\n",
    "    while True:\n",
    "        if float('%.3f' % (a**2)) < n < float('%.3f' % (b**2)):\n",
    "            k = (a+b)/2\n",
    "            print(n)\n",
    "            if k**2 > n:\n",
    "                b = k\n",
    "                print('b',b)\n",
    "            else:\n",
    "                a = k\n",
    "                print('a',a)\n",
    "                continue\n",
    "        else:\n",
    "            return a, b\n",
    "            \n",
    "print(my_sqrt(2))\n"
   ]
  },
  {
   "cell_type": "code",
   "execution_count": 39,
   "metadata": {},
   "outputs": [],
   "source": [
    "#             print('b', b)\n",
    "#             if a**2 < 2 < b**2:\n",
    "#                 a = (a+b)/2\n",
    "#                 print('a', a)\n",
    "#                 if a**2 < 2 < b**2:\n",
    "#                     a = (a+b)/2\n",
    "#                     print('a', a)\n",
    "# #                     if a**2 < 2 < b**2:\n",
    "# #                         b = (a+b)/2\n",
    "# #                         print(b)\n",
    "#             continue\n",
    "if float('%.3f' % (a**2)) < n < float('%.3f' % (b**2)):"
   ]
  },
  {
   "cell_type": "code",
   "execution_count": null,
   "metadata": {},
   "outputs": [],
   "source": []
  }
 ],
 "metadata": {
  "kernelspec": {
   "display_name": "Python 3",
   "language": "python",
   "name": "python3"
  },
  "language_info": {
   "codemirror_mode": {
    "name": "ipython",
    "version": 3
   },
   "file_extension": ".py",
   "mimetype": "text/x-python",
   "name": "python",
   "nbconvert_exporter": "python",
   "pygments_lexer": "ipython3",
   "version": "3.6.7"
  }
 },
 "nbformat": 4,
 "nbformat_minor": 2
}
